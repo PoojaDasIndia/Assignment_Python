{
 "cells": [
  {
   "cell_type": "markdown",
   "id": "b2bb73c7",
   "metadata": {},
   "source": [
    "# Python Basic Programming Assignment 22"
   ]
  },
  {
   "cell_type": "markdown",
   "id": "b41baeb0",
   "metadata": {},
   "source": [
    "### Question1\n",
    "Create a function that takes three parameters where:<br>\n",
    "* x is the start of the range (inclusive).<br>\n",
    "* y is the end of the range (inclusive).<br>\n",
    "* n is the divisor to be checked against.<br>\n",
    "Return an ordered list with numbers in the range that are divisible by the third parameter n.<br>\n",
    "Return an empty list if there are no numbers that are divisible by n.<br>\n",
    "\n",
    "**Examples**<br>\n",
    "list_operation(1, 10, 3) ➞ [3, 6, 9] <br>\n",
    "list_operation(7, 9, 2) ➞ [8]<br>\n",
    "list_operation(15, 20, 7) ➞ []<br>"
   ]
  },
  {
   "cell_type": "code",
   "execution_count": 25,
   "id": "6c83c480",
   "metadata": {},
   "outputs": [],
   "source": [
    "def list_operation(x, y, n):\n",
    "    return [i for i in range(x,y) if i%n==0]\n",
    "        "
   ]
  },
  {
   "cell_type": "code",
   "execution_count": 27,
   "id": "1a99d8c4",
   "metadata": {},
   "outputs": [
    {
     "name": "stdout",
     "output_type": "stream",
     "text": [
      " Enter start range ,End range ,divisor  1 10 3\n"
     ]
    },
    {
     "data": {
      "text/plain": [
       "[3, 6, 9]"
      ]
     },
     "execution_count": 27,
     "metadata": {},
     "output_type": "execute_result"
    }
   ],
   "source": [
    "x,y,n=list(map(int,input(\" Enter start range ,End range ,divisor  \").split()))\n",
    "list_operation(x,y,n)"
   ]
  },
  {
   "cell_type": "code",
   "execution_count": 3,
   "id": "dea08cd1",
   "metadata": {},
   "outputs": [
    {
     "data": {
      "text/plain": [
       "[8]"
      ]
     },
     "execution_count": 3,
     "metadata": {},
     "output_type": "execute_result"
    }
   ],
   "source": [
    "list_operation(7, 9, 2)"
   ]
  },
  {
   "cell_type": "code",
   "execution_count": 4,
   "id": "c1082ce9",
   "metadata": {},
   "outputs": [
    {
     "data": {
      "text/plain": [
       "[]"
      ]
     },
     "execution_count": 4,
     "metadata": {},
     "output_type": "execute_result"
    }
   ],
   "source": [
    "list_operation(15, 20, 7)"
   ]
  },
  {
   "cell_type": "markdown",
   "id": "3fd9b2ac",
   "metadata": {},
   "source": [
    "### Question2\n",
    "Create a function that takes in two lists and returns True if the second list follows the first list\n",
    "by one element, and False otherwise. In other words, determine if the second list is the first\n",
    "list shifted to the right by 1.<br>\n",
    "**Examples**<br>\n",
    "simon_says([1, 2], [5, 1]) ➞ True<br>\n",
    "simon_says([1, 2], [5, 5]) ➞ False<br>\n",
    "simon_says([1, 2, 3, 4, 5], [0, 1, 2, 3, 4]) ➞ True<br>\n",
    "simon_says([1, 2, 3, 4, 5], [5, 5, 1, 2, 3]) ➞ False<br>\n",
    "\n",
    "**Notes** <br>\n",
    "* Both input lists will be of the same length, and will have a minimum length of 2.<br>\n",
    "* The values of the 0-indexed element in the second list and the n-1th indexed element in the first list do not matter."
   ]
  },
  {
   "cell_type": "code",
   "execution_count": 39,
   "id": "9e0c7632",
   "metadata": {},
   "outputs": [],
   "source": [
    "def simon_says(List1,List2):\n",
    "    if len(List1)==len(List2):\n",
    "        if List1[-2] == List2[-1]:\n",
    "            return True\n",
    "        else:\n",
    "            return False\n",
    "    else:\n",
    "        print(\"Both list length not same\")"
   ]
  },
  {
   "cell_type": "code",
   "execution_count": 40,
   "id": "f6639210",
   "metadata": {},
   "outputs": [
    {
     "data": {
      "text/plain": [
       "True"
      ]
     },
     "execution_count": 40,
     "metadata": {},
     "output_type": "execute_result"
    }
   ],
   "source": [
    "simon_says([1, 2], [5, 1])"
   ]
  },
  {
   "cell_type": "code",
   "execution_count": 41,
   "id": "d2985b77",
   "metadata": {},
   "outputs": [
    {
     "data": {
      "text/plain": [
       "False"
      ]
     },
     "execution_count": 41,
     "metadata": {},
     "output_type": "execute_result"
    }
   ],
   "source": [
    "simon_says([1, 2], [5, 5]) "
   ]
  },
  {
   "cell_type": "code",
   "execution_count": 42,
   "id": "d22cae9c",
   "metadata": {},
   "outputs": [
    {
     "data": {
      "text/plain": [
       "True"
      ]
     },
     "execution_count": 42,
     "metadata": {},
     "output_type": "execute_result"
    }
   ],
   "source": [
    "simon_says([1, 2, 3, 4, 5], [0, 1, 2, 3, 4])"
   ]
  },
  {
   "cell_type": "code",
   "execution_count": 44,
   "id": "56d2896b",
   "metadata": {},
   "outputs": [
    {
     "data": {
      "text/plain": [
       "False"
      ]
     },
     "execution_count": 44,
     "metadata": {},
     "output_type": "execute_result"
    }
   ],
   "source": [
    "simon_says([1, 2, 3, 4, 5], [5, 5, 1, 2, 3]) "
   ]
  },
  {
   "cell_type": "code",
   "execution_count": 43,
   "id": "825aa790",
   "metadata": {},
   "outputs": [
    {
     "name": "stdout",
     "output_type": "stream",
     "text": [
      "Both list length not same\n"
     ]
    }
   ],
   "source": [
    "simon_says([], [5, 5, 1, 2, 3])"
   ]
  },
  {
   "cell_type": "markdown",
   "id": "7a557b0f",
   "metadata": {},
   "source": [
    "### Question3\n",
    "A group of friends have decided to start a secret society. The name will be the first letter of\n",
    "each of their names, sorted in alphabetical order.<br>\n",
    "Create a function that takes in a list of names and returns the name of the secret society.<br><br>\n",
    "\n",
    "**Examples**<br>\n",
    "society_name([&quot;Adam&quot;, &quot;Sarah&quot;, &quot;Malcolm&quot;]) ➞ &quot;AMS&quot;<br>\n",
    "society_name([&quot;Harry&quot;, &quot;Newt&quot;, &quot;Luna&quot;, &quot;Cho&quot;]) ➞ &quot;CHLN&quot;<br>\n",
    "society_name([&quot;Phoebe&quot;, &quot;Chandler&quot;, &quot;Rachel&quot;, &quot;Ross&quot;, &quot;Monica&quot;, &quot;Joey&quot;])"
   ]
  },
  {
   "cell_type": "code",
   "execution_count": 54,
   "id": "8b4f6fa4",
   "metadata": {},
   "outputs": [],
   "source": [
    "def society_name(list_name):\n",
    "    secret_society=\"\"\n",
    "    for i in list_name:\n",
    "        secret_society=secret_society+i[0]\n",
    "    return \"\".join(sorted(secret_society))\n",
    "    "
   ]
  },
  {
   "cell_type": "code",
   "execution_count": 55,
   "id": "3c5c1479",
   "metadata": {},
   "outputs": [
    {
     "data": {
      "text/plain": [
       "'AMS'"
      ]
     },
     "execution_count": 55,
     "metadata": {},
     "output_type": "execute_result"
    }
   ],
   "source": [
    "society_name([\"Adam\", \"Sarah\", \"Malcolm\"])"
   ]
  },
  {
   "cell_type": "code",
   "execution_count": 56,
   "id": "6660585f",
   "metadata": {},
   "outputs": [
    {
     "data": {
      "text/plain": [
       "'CHLN'"
      ]
     },
     "execution_count": 56,
     "metadata": {},
     "output_type": "execute_result"
    }
   ],
   "source": [
    "society_name([\"Harry\", \"Newt\", \"Luna\", \"Cho\"]) "
   ]
  },
  {
   "cell_type": "code",
   "execution_count": 57,
   "id": "23dfda01",
   "metadata": {},
   "outputs": [
    {
     "data": {
      "text/plain": [
       "'CJMPRR'"
      ]
     },
     "execution_count": 57,
     "metadata": {},
     "output_type": "execute_result"
    }
   ],
   "source": [
    "society_name([\"Phoebe\", \"Chandler\", \"Rachel\", \"Ross\", \"Monica\", \"Joey\"])"
   ]
  },
  {
   "cell_type": "markdown",
   "id": "6918024f",
   "metadata": {},
   "source": [
    "### Question4\n",
    "An isogram is a word that has no duplicate letters. Create a function that takes a string and\n",
    "returns either True or False depending on whether or not it&#39;s an &quot;isogram&quot;.<br>\n",
    "\n",
    "**Examples**<br>\n",
    "\n",
    "is_isogram(&quot;Algorism&quot;) ➞ True<br>\n",
    "is_isogram(&quot;PasSword&quot;) ➞ False<br>\n",
    "    #Not case sensitive.<br>\n",
    "    \n",
    "is_isogram(&quot;Consecutive&quot;) ➞ False<br>\n",
    "**Notes**<br>\n",
    "* Ignore letter case (should not be case sensitive).<br>\n",
    "* All test cases contain valid one word strings."
   ]
  },
  {
   "cell_type": "code",
   "execution_count": 71,
   "id": "61041cfd",
   "metadata": {},
   "outputs": [],
   "source": [
    "def is_isogram(string):\n",
    "    if len(set(string.lower())) == len(string):\n",
    "        return True\n",
    "    else:\n",
    "        return False"
   ]
  },
  {
   "cell_type": "code",
   "execution_count": 72,
   "id": "cbf11cb7",
   "metadata": {},
   "outputs": [
    {
     "data": {
      "text/plain": [
       "True"
      ]
     },
     "execution_count": 72,
     "metadata": {},
     "output_type": "execute_result"
    }
   ],
   "source": [
    "is_isogram(\"Algorism\") "
   ]
  },
  {
   "cell_type": "code",
   "execution_count": 73,
   "id": "f61870e3",
   "metadata": {},
   "outputs": [
    {
     "data": {
      "text/plain": [
       "False"
      ]
     },
     "execution_count": 73,
     "metadata": {},
     "output_type": "execute_result"
    }
   ],
   "source": [
    "is_isogram(\"PasSword\") "
   ]
  },
  {
   "cell_type": "code",
   "execution_count": 74,
   "id": "36368379",
   "metadata": {},
   "outputs": [
    {
     "data": {
      "text/plain": [
       "False"
      ]
     },
     "execution_count": 74,
     "metadata": {},
     "output_type": "execute_result"
    }
   ],
   "source": [
    "is_isogram(\"Consecutive\")"
   ]
  },
  {
   "cell_type": "markdown",
   "id": "49f632be",
   "metadata": {},
   "source": [
    "### Question5\n",
    "Create a function that takes a string and returns True or False, depending on whether the\n",
    "characters are in order or not.<br>\n",
    "**Examples**<br>\n",
    "is_in_order(&quot;abc&quot;) ➞ True<br>\n",
    "is_in_order(&quot;edabit&quot;) ➞ False<br>\n",
    "is_in_order(&quot;123&quot;) ➞ True<br>\n",
    "is_in_order(&quot;xyzz&quot;) ➞ True<br>\n",
    "\n",
    "**Notes**<br>\n",
    "You don&#39;t have to handle empty strings."
   ]
  },
  {
   "cell_type": "code",
   "execution_count": 91,
   "id": "6c37336e",
   "metadata": {},
   "outputs": [],
   "source": [
    "def is_in_order(string):\n",
    "#     if string != \"\":\n",
    "        sorted_string=\"\".join(sorted(string))\n",
    "        if string == sorted_string :\n",
    "            return True\n",
    "        else:\n",
    "            return False\n",
    "#     else:\n",
    "#         print(\"Your String is Empty\")"
   ]
  },
  {
   "cell_type": "code",
   "execution_count": 92,
   "id": "7a040f4f",
   "metadata": {},
   "outputs": [
    {
     "data": {
      "text/plain": [
       "True"
      ]
     },
     "execution_count": 92,
     "metadata": {},
     "output_type": "execute_result"
    }
   ],
   "source": [
    "is_in_order(\"abc\") "
   ]
  },
  {
   "cell_type": "code",
   "execution_count": 93,
   "id": "2ad71b0c",
   "metadata": {},
   "outputs": [
    {
     "data": {
      "text/plain": [
       "False"
      ]
     },
     "execution_count": 93,
     "metadata": {},
     "output_type": "execute_result"
    }
   ],
   "source": [
    "is_in_order(\"edabit\") "
   ]
  },
  {
   "cell_type": "code",
   "execution_count": 94,
   "id": "0ea21cdb",
   "metadata": {},
   "outputs": [
    {
     "data": {
      "text/plain": [
       "True"
      ]
     },
     "execution_count": 94,
     "metadata": {},
     "output_type": "execute_result"
    }
   ],
   "source": [
    "is_in_order(\"123\") "
   ]
  },
  {
   "cell_type": "code",
   "execution_count": 95,
   "id": "327af192",
   "metadata": {},
   "outputs": [
    {
     "data": {
      "text/plain": [
       "True"
      ]
     },
     "execution_count": 95,
     "metadata": {},
     "output_type": "execute_result"
    }
   ],
   "source": [
    "is_in_order(\"xyzz\") "
   ]
  },
  {
   "cell_type": "code",
   "execution_count": 96,
   "id": "67ef20f4",
   "metadata": {},
   "outputs": [
    {
     "data": {
      "text/plain": [
       "True"
      ]
     },
     "execution_count": 96,
     "metadata": {},
     "output_type": "execute_result"
    }
   ],
   "source": [
    "is_in_order(\"\")\n",
    "You don't have to handle empty strings."
   ]
  },
  {
   "cell_type": "code",
   "execution_count": null,
   "id": "0e03bf24",
   "metadata": {},
   "outputs": [],
   "source": []
  }
 ],
 "metadata": {
  "kernelspec": {
   "display_name": "Python 3 (ipykernel)",
   "language": "python",
   "name": "python3"
  },
  "language_info": {
   "codemirror_mode": {
    "name": "ipython",
    "version": 3
   },
   "file_extension": ".py",
   "mimetype": "text/x-python",
   "name": "python",
   "nbconvert_exporter": "python",
   "pygments_lexer": "ipython3",
   "version": "3.9.7"
  }
 },
 "nbformat": 4,
 "nbformat_minor": 5
}
