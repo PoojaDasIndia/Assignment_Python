{
 "cells": [
  {
   "cell_type": "markdown",
   "id": "d10f9321",
   "metadata": {},
   "source": [
    "### 1. Write a Python program to print \"Hello Python\"?"
   ]
  },
  {
   "cell_type": "code",
   "execution_count": 1,
   "id": "e2720aba",
   "metadata": {},
   "outputs": [
    {
     "name": "stdout",
     "output_type": "stream",
     "text": [
      "Hello Python\n"
     ]
    }
   ],
   "source": [
    "print(\"Hello Python\")"
   ]
  },
  {
   "cell_type": "markdown",
   "id": "99fcd53c",
   "metadata": {},
   "source": [
    "### 2. Write a Python program to do arithmetical operations addition and division.?"
   ]
  },
  {
   "cell_type": "code",
   "execution_count": 8,
   "id": "e909a290",
   "metadata": {},
   "outputs": [
    {
     "name": "stdout",
     "output_type": "stream",
     "text": [
      "Enter first value 40\n",
      "Enter second value 5\n",
      "\n",
      "Addition of 40 & 5 is 45\n",
      "\n",
      "Division of 40 & 5 is 8\n"
     ]
    }
   ],
   "source": [
    "#Takeing input with user\n",
    "a=int(input(\"Enter first value \"))\n",
    "b=int(input(\"Enter second value \"))\n",
    "#Addition perform\n",
    "print()\n",
    "print(\"Addition of {} & {} is {}\".format(a,b,a+b))\n",
    "print()\n",
    "#Division perform\n",
    "print(\"Division of {} & {} is {}\".format(a,b,a//b))"
   ]
  },
  {
   "cell_type": "markdown",
   "id": "e8efbd71",
   "metadata": {},
   "source": [
    "### 3. Write a Python program to find the Area = (s*(s-a)*(s-b)*(s-c)) ** 0.5  ?\n",
    "\n",
    "            side = (a+b+c)/2\n",
    "            area = √(s(s-a)*(s-b)*(s-c)) or Area = (s*(s-a)*(s-b)*(s-c)) ** 0.5  "
   ]
  },
  {
   "cell_type": "code",
   "execution_count": 13,
   "id": "5f1e9d35",
   "metadata": {
    "scrolled": true
   },
   "outputs": [
    {
     "name": "stdout",
     "output_type": "stream",
     "text": [
      "Enter first side 7\n",
      "Enter second side 8\n",
      "Enter Third side 6\n",
      "Area of Triangle of side a = 7,b=8,c=6 is 20.33316256758894\n"
     ]
    }
   ],
   "source": [
    "#with math libary\n",
    "import math\n",
    "a=int(input(\"Enter first side \"))\n",
    "b=int(input(\"Enter second side \"))\n",
    "c=int(input(\"Enter Third side \"))\n",
    "s=(a+b+c)/2\n",
    "area=math.sqrt(s*(s-a)*(s-b)*(s-c))\n",
    "print(\"Area of Triangle of side a = {},b= {},c= {} is {}\".format(a,b,c,area))\n",
    "\n"
   ]
  },
  {
   "cell_type": "code",
   "execution_count": 17,
   "id": "bd7676ff",
   "metadata": {},
   "outputs": [
    {
     "name": "stdout",
     "output_type": "stream",
     "text": [
      "Enter first side 7\n",
      "Enter second side 8\n",
      "Enter Third side 6\n",
      "Area of Triangle of side a = 7,b= 8,c= 6 is 20.33316256758894\n"
     ]
    }
   ],
   "source": [
    "#without math libary\n",
    "a=int(input(\"Enter first side \"))\n",
    "b=int(input(\"Enter second side \"))\n",
    "c=int(input(\"Enter Third side \"))\n",
    "s=(a+b+c)/2\n",
    "area1=(s*(s-a)*(s-b)*(s-c))**0.5\n",
    "print(\"Area of Triangle of side a = {},b= {},c= {} is {}\".format(a,b,c,area1))\n"
   ]
  },
  {
   "cell_type": "markdown",
   "id": "5ba4c1f8",
   "metadata": {},
   "source": [
    "### 4. Write a Python program to swap two variables?\n"
   ]
  },
  {
   "cell_type": "code",
   "execution_count": 20,
   "id": "b904c604",
   "metadata": {},
   "outputs": [
    {
     "name": "stdout",
     "output_type": "stream",
     "text": [
      "Enter your first data for swap  Pooja\n",
      "Enter  your second data for swap Das\n",
      "Data : Pooja & Das ----- without swaping\n",
      "\n",
      "Data: Das & Pooja---- with swaping\n"
     ]
    }
   ],
   "source": [
    "a=input(\"Enter your first data for swap  \")\n",
    "b=input(\"Enter  your second data for swap \")\n",
    "print (f\"Data : {a} & {b} ----- without swaping\")\n",
    "a,b=b,a\n",
    "print()\n",
    "print (f\"Data: {a} & {b}---- with swaping\")"
   ]
  },
  {
   "cell_type": "markdown",
   "id": "9e83152c",
   "metadata": {},
   "source": [
    "### 5. Write a Python program to generate a random number?"
   ]
  },
  {
   "cell_type": "code",
   "execution_count": 30,
   "id": "2b78aec2",
   "metadata": {},
   "outputs": [
    {
     "name": "stdout",
     "output_type": "stream",
     "text": [
      "0.07153162432853843\n",
      "33\n",
      "12\n"
     ]
    }
   ],
   "source": [
    "import random\n",
    "print(random.random())\n",
    "print(random.randint(20,50))\n",
    "print(random.randrange(0,20,2))"
   ]
  }
 ],
 "metadata": {
  "kernelspec": {
   "display_name": "Python 3 (ipykernel)",
   "language": "python",
   "name": "python3"
  },
  "language_info": {
   "codemirror_mode": {
    "name": "ipython",
    "version": 3
   },
   "file_extension": ".py",
   "mimetype": "text/x-python",
   "name": "python",
   "nbconvert_exporter": "python",
   "pygments_lexer": "ipython3",
   "version": "3.9.7"
  }
 },
 "nbformat": 4,
 "nbformat_minor": 5
}
