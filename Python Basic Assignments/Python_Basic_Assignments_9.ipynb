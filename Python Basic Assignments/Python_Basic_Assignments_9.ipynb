{
 "cells": [
  {
   "cell_type": "markdown",
   "id": "1be2fdc0",
   "metadata": {},
   "source": [
    "# Assignment 9 'Python basic'"
   ]
  },
  {
   "cell_type": "markdown",
   "id": "48c3a04c",
   "metadata": {},
   "source": [
    "### 1. To what does a relative path refer?\n",
    "\n",
    "A relative path refers to a location that is relative to a current directory."
   ]
  },
  {
   "cell_type": "markdown",
   "id": "a5594da1",
   "metadata": {},
   "source": [
    "### 2. What does an absolute path start with your operating system?\n",
    "\n",
    "Absolute Path start with root folder such as `C:\\,D:\\`."
   ]
  },
  {
   "cell_type": "markdown",
   "id": "d04e5a86",
   "metadata": {},
   "source": [
    "### 3. What do the functions os.getcwd() and os.chdir() do?\n",
    "\n",
    "**os.getcwd()** is used to get Current Working Director.\n",
    "\n",
    "**os.chdir()** is used to changes the current working directory.\n",
    "\n"
   ]
  },
  {
   "cell_type": "markdown",
   "id": "c1bade3b",
   "metadata": {},
   "source": [
    "### 4. What are the . and .. folders?\n",
    "\n",
    "The . folder is the current folder, and .. is the parent folder"
   ]
  },
  {
   "cell_type": "markdown",
   "id": "8f0fc860",
   "metadata": {},
   "source": [
    "### 5. In C:\\bacon\\eggs\\spam.txt, which part is the dir name, and which part is the base name\n",
    "\n",
    "dir name is `C:\\bacon\\eggs`\n",
    "\n",
    "base name is `spam.txt`"
   ]
  },
  {
   "cell_type": "markdown",
   "id": "af5f1280",
   "metadata": {},
   "source": [
    "### 6. What are the three “mode” arguments that can be passed to the open() function?\n",
    "\n",
    "'r' for read mode\n",
    "\n",
    "'w' for write mode\n",
    "\n",
    "'a' for append mode"
   ]
  },
  {
   "cell_type": "markdown",
   "id": "5305ad42",
   "metadata": {},
   "source": [
    "### 7. What happens if an existing file is opened in write mode?\n",
    "\n",
    "An existing file opened in write mode is erased and completely overwritten.\n",
    "\n"
   ]
  },
  {
   "cell_type": "markdown",
   "id": "e4dda05a",
   "metadata": {},
   "source": [
    "### 8. How do you tell the difference between read() and readlines()?\n",
    "\n",
    "**The read()** method returns the  contents  of file as a single string value. \n",
    "\n",
    "**The readlines()** method returns a list of strings, where each string is a line from the file’s contents."
   ]
  },
  {
   "cell_type": "markdown",
   "id": "6b75183e",
   "metadata": {},
   "source": [
    "### 9. What data structure does a shelf value resemble?"
   ]
  },
  {
   "cell_type": "markdown",
   "id": "caf6d2cc",
   "metadata": {},
   "source": [
    "A shelf value resembles a dictionary value; it has keys and values, along with keys() and values() methods that work similarly to the dictionary methods of the same names."
   ]
  }
 ],
 "metadata": {
  "kernelspec": {
   "display_name": "PowerShell",
   "language": "powershell",
   "name": "powershell"
  }
 },
 "nbformat": 4,
 "nbformat_minor": 5
}
